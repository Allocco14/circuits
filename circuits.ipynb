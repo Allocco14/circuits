{
 "cells": [
  {
   "cell_type": "code",
   "execution_count": 18,
   "metadata": {},
   "outputs": [],
   "source": [
    "import numpy as np\n",
    "\n",
    "def convert_fasor_to_rectangular(magnitude, phase):\n",
    "    import math\n",
    "    real = magnitude * math.cos(phase)\n",
    "    imaginary = magnitude * math.sin(phase)\n",
    "    return real+imaginary*1j"
   ]
  },
  {
   "cell_type": "code",
   "execution_count": 43,
   "metadata": {},
   "outputs": [
    {
     "name": "stdout",
     "output_type": "stream",
     "text": [
      "Matriz de impedancias:\n",
      " [[ 93.17516061+18.95670068j -84.70469147-17.23336425j]\n",
      " [-84.70469147-17.23336425j 169.40938293+34.4667285j ]]\n",
      "Vector de tensiones:\n",
      " [1.80133284e+02+104.j 1.27363267e-14-208.j]\n",
      "Corrientes:\n",
      "[3.40346011-0.69244179j 1.46186118-1.52521406j]\n",
      "Corrientes en coordenadas polares:\n",
      "[3.47318533 2.11265616]\n",
      "[-11.5        -46.21500395]\n",
      "Corrientes de fase:\n",
      "3.4731853306178326 -0.20071286397934787\n",
      "2.1126561589863586 -2.736414398729895\n",
      "2.1126561589863586 2.334988670771199\n"
     ]
    }
   ],
   "source": [
    "# Impedancias\n",
    "\n",
    "z = 86.44\n",
    "theta = 11.5*np.pi/180\n",
    "\n",
    "zbn = zcn = convert_fasor_to_rectangular(z, theta)\n",
    "zan = convert_fasor_to_rectangular(z/10, theta)\n",
    "\n",
    "# Crear la matriz de impedancias\n",
    "A = np.array([[zan+zbn, -zbn], [-zbn, zbn+zcn]])\n",
    "print(\"Matriz de impedancias:\\n\", A)\n",
    "\n",
    "# Calcular la inversa de la matriz\n",
    "A_inv = np.linalg.inv(A)\n",
    "\n",
    "# Crear el vector de tensiones (corregido)\n",
    "V = np.array([convert_fasor_to_rectangular(208, 30*np.pi/180), convert_fasor_to_rectangular(208, -90*np.pi/180)])\n",
    "print(\"Vector de tensiones:\\n\", V.transpose())\n",
    "# Calcular las corrientes\n",
    "I = np.dot(A_inv, V)\n",
    "\n",
    "print(\"Corrientes:\")\n",
    "print(I)\n",
    "\n",
    "# Calcular las corrientes en coordenadas polares\n",
    "I_magnitudes = np.abs(I)\n",
    "I_phases = np.angle(I)\n",
    "\n",
    "print(\"Corrientes en coordenadas polares:\")\n",
    "print(I_magnitudes)\n",
    "print(I_phases*180/np.pi)\n",
    "\n",
    "I1 = I[0]\n",
    "I2 = I[1]-I[0]\n",
    "I3 = -I[1]\n",
    "\n",
    "print(\"Corrientes de fase:\")\n",
    "print(np.abs(I1), np.angle(I1)*180/np.pi)\n",
    "print(np.abs(I2), np.angle(I2)*180/np.pi)\n",
    "print(np.abs(I3), np.angle(I3)*180/np.pi)"
   ]
  },
  {
   "cell_type": "code",
   "execution_count": 40,
   "metadata": {},
   "outputs": [
    {
     "ename": "ModuleNotFoundError",
     "evalue": "No module named 'matplotlib'",
     "output_type": "error",
     "traceback": [
      "\u001b[1;31m---------------------------------------------------------------------------\u001b[0m",
      "\u001b[1;31mModuleNotFoundError\u001b[0m                       Traceback (most recent call last)",
      "Cell \u001b[1;32mIn[40], line 11\u001b[0m\n\u001b[0;32m      8\u001b[0m     I[i] \u001b[38;5;241m=\u001b[39m np\u001b[38;5;241m.\u001b[39mdot(A_inv, V)\n\u001b[0;32m     10\u001b[0m \u001b[38;5;66;03m# Graficar las corrientes\u001b[39;00m\n\u001b[1;32m---> 11\u001b[0m \u001b[38;5;28;01mimport\u001b[39;00m \u001b[38;5;21;01mmatplotlib\u001b[39;00m\u001b[38;5;21;01m.\u001b[39;00m\u001b[38;5;21;01mpyplot\u001b[39;00m \u001b[38;5;28;01mas\u001b[39;00m \u001b[38;5;21;01mplt\u001b[39;00m\n\u001b[0;32m     12\u001b[0m plt\u001b[38;5;241m.\u001b[39mplot(zan, I[:, \u001b[38;5;241m0\u001b[39m], label\u001b[38;5;241m=\u001b[39m\u001b[38;5;124m'\u001b[39m\u001b[38;5;124mIa\u001b[39m\u001b[38;5;124m'\u001b[39m)\n\u001b[0;32m     13\u001b[0m plt\u001b[38;5;241m.\u001b[39mplot(zan, I[:, \u001b[38;5;241m1\u001b[39m], label\u001b[38;5;241m=\u001b[39m\u001b[38;5;124m'\u001b[39m\u001b[38;5;124mIc\u001b[39m\u001b[38;5;124m'\u001b[39m)\n",
      "\u001b[1;31mModuleNotFoundError\u001b[0m: No module named 'matplotlib'"
     ]
    }
   ],
   "source": [
    "# Hacer el ejercicio para valores de zan entre 1 y 100 % de zbn\n",
    "zan = np.linspace(0.01, 1, 100)\n",
    "I = np.zeros((100, 2), dtype=complex)\n",
    "\n",
    "for i in range(100):\n",
    "    A = np.array([[zan[i]+zbn, -zbn], [-zbn, zbn+zcn]])\n",
    "    A_inv = np.linalg.inv(A)\n",
    "    I[i] = np.dot(A_inv, V)\n",
    "\n",
    "# Graficar las corrientes\n",
    "import matplotlib.pyplot as plt\n",
    "plt.plot(zan, I[:, 0], label='I1')\n",
    "plt.plot(zan, I[:, 1], label='I2')\n",
    "plt.xlabel('zan')\n",
    "plt.ylabel('I')\n",
    "plt.legend()\n",
    "plt.show()"
   ]
  }
 ],
 "metadata": {
  "kernelspec": {
   "display_name": "circuits_env",
   "language": "python",
   "name": "python3"
  },
  "language_info": {
   "codemirror_mode": {
    "name": "ipython",
    "version": 3
   },
   "file_extension": ".py",
   "mimetype": "text/x-python",
   "name": "python",
   "nbconvert_exporter": "python",
   "pygments_lexer": "ipython3",
   "version": "3.8.18"
  }
 },
 "nbformat": 4,
 "nbformat_minor": 2
}
